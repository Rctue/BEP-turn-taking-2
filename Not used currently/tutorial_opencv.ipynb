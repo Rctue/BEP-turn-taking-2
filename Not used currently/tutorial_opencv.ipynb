{
 "cells": [
  {
   "cell_type": "markdown",
   "metadata": {},
   "source": [
    "# OpenCV\n",
    "\n",
    "OpenCV is a popular framework for image and video processing. On this tutorial,\n",
    "we show how OpenPifPaf can integrate with a workflow from OpenCV. OpenPifPaf\n",
    "also comes with a video tool for processing videos from files or usb cameras\n",
    "that is based on OpenCV, {ref}`openpifpaf.video <cli-help-video>`."
   ]
  },
  {
   "cell_type": "code",
   "execution_count": 5,
   "metadata": {},
   "outputs": [
    {
     "name": "stdout",
     "output_type": "stream",
     "text": [
      "Found existing installation: torch 2.2.2\n",
      "Uninstalling torch-2.2.2:\n",
      "  Would remove:\n",
      "    /Library/Frameworks/Python.framework/Versions/3.12/bin/convert-caffe2-to-onnx\n",
      "    /Library/Frameworks/Python.framework/Versions/3.12/bin/convert-onnx-to-caffe2\n",
      "    /Library/Frameworks/Python.framework/Versions/3.12/bin/torchrun\n",
      "    /Library/Frameworks/Python.framework/Versions/3.12/lib/python3.12/site-packages/functorch/*\n",
      "    /Library/Frameworks/Python.framework/Versions/3.12/lib/python3.12/site-packages/torch-2.2.2.dist-info/*\n",
      "    /Library/Frameworks/Python.framework/Versions/3.12/lib/python3.12/site-packages/torch/*\n",
      "    /Library/Frameworks/Python.framework/Versions/3.12/lib/python3.12/site-packages/torchgen/*\n",
      "Proceed (Y/n)? "
     ]
    }
   ],
   "source": [
    "# need to create envorinment first\n",
    "# \n",
    "# #!conda install pytorch torchvision -c pytorch\n",
    "\n",
    "#To install PyTorch via pip, use one of the following two commands, depending on your Python version:\n",
    "\n",
    "# Python 3.x\n",
    "#!pip3 install torch==1.13.1 torchvision==1.13.1\n",
    "#!pip3 install openpifpaf\n"
   ]
  },
  {
   "cell_type": "code",
   "execution_count": 5,
   "metadata": {
    "tags": [
     "remove-cell"
    ]
   },
   "outputs": [],
   "source": [
    "import cv2\n",
    "import openpifpaf\n",
    "\n",
    "#%matplotlib inline\n",
    "openpifpaf.show.Canvas.show = True\n",
    "openpifpaf.show.Canvas.image_min_dpi = 200"
   ]
  },
  {
   "cell_type": "markdown",
   "metadata": {},
   "source": [
    "## Source\n",
    "\n",
    "The `cv2.VideoCapture` class supports an enourmous amount of sources \n",
    "(files, cameras, rtmp, etc, ...) and abstracts the details away. Here, we will\n",
    "just pass in a single image."
   ]
  },
  {
   "cell_type": "code",
   "execution_count": 7,
   "metadata": {},
   "outputs": [
    {
     "name": "stderr",
     "output_type": "stream",
     "text": [
      "\n",
      "(<unknown>:5256): GStreamer-CRITICAL **: 11:00:24.385: gst_element_make_from_uri: assertion 'gst_uri_is_valid (uri)' failed\n",
      "[ WARN:0@47.911] global cap_gstreamer.cpp:1436 open OpenCV | GStreamer warning: Error opening bin: no element \"coco\"\n",
      "[ WARN:0@47.911] global cap_gstreamer.cpp:1173 isPipelinePlaying OpenCV | GStreamer warning: GStreamer: pipeline have not been created\n",
      "OpenCV: Couldn't read video stream from file \"coco/000000081988.jpg\"\n"
     ]
    },
    {
     "ename": "error",
     "evalue": "OpenCV(4.10.0) /private/var/folders/k1/30mswbxs7r1g6zwn8y4fyt500000gp/T/abs_49s_p64pd6/croot/opencv-suite_1722029132360/work/modules/imgproc/src/color.cpp:196: error: (-215:Assertion failed) !_src.empty() in function 'cvtColor'\n",
     "output_type": "error",
     "traceback": [
      "\u001b[0;31m---------------------------------------------------------------------------\u001b[0m",
      "\u001b[0;31merror\u001b[0m                                     Traceback (most recent call last)",
      "Cell \u001b[0;32mIn[7], line 3\u001b[0m\n\u001b[1;32m      1\u001b[0m capture \u001b[38;5;241m=\u001b[39m cv2\u001b[38;5;241m.\u001b[39mVideoCapture(\u001b[38;5;124m'\u001b[39m\u001b[38;5;124mcoco/000000081988.jpg\u001b[39m\u001b[38;5;124m'\u001b[39m)\n\u001b[1;32m      2\u001b[0m _, image \u001b[38;5;241m=\u001b[39m capture\u001b[38;5;241m.\u001b[39mread()\n\u001b[0;32m----> 3\u001b[0m image \u001b[38;5;241m=\u001b[39m \u001b[43mcv2\u001b[49m\u001b[38;5;241;43m.\u001b[39;49m\u001b[43mcvtColor\u001b[49m\u001b[43m(\u001b[49m\u001b[43mimage\u001b[49m\u001b[43m,\u001b[49m\u001b[43m \u001b[49m\u001b[43mcv2\u001b[49m\u001b[38;5;241;43m.\u001b[39;49m\u001b[43mCOLOR_BGR2RGB\u001b[49m\u001b[43m)\u001b[49m\n",
      "\u001b[0;31merror\u001b[0m: OpenCV(4.10.0) /private/var/folders/k1/30mswbxs7r1g6zwn8y4fyt500000gp/T/abs_49s_p64pd6/croot/opencv-suite_1722029132360/work/modules/imgproc/src/color.cpp:196: error: (-215:Assertion failed) !_src.empty() in function 'cvtColor'\n"
     ]
    }
   ],
   "source": [
    "capture = cv2.VideoCapture('coco/000000081988.jpg')\n",
    "_, image = capture.read()\n",
    "image = cv2.cvtColor(image, cv2.COLOR_BGR2RGB)"
   ]
  },
  {
   "cell_type": "code",
   "execution_count": null,
   "metadata": {},
   "outputs": [],
   "source": [
    "with openpifpaf.show.Canvas.image(image) as ax:\n",
    "    pass"
   ]
  },
  {
   "cell_type": "markdown",
   "metadata": {},
   "source": [
    "## Prediction\n",
    "\n",
    "Now that we have the image, we can use the `openpifpaf.Predictor` and then\n",
    "visualize its predicted annotations with an `AnnotationPainter`:"
   ]
  },
  {
   "cell_type": "code",
   "execution_count": null,
   "metadata": {},
   "outputs": [],
   "source": [
    "predictor = openpifpaf.Predictor(checkpoint='shufflenetv2k16')\n",
    "predictions, gt_anns, meta = predictor.numpy_image(image)\n",
    "\n",
    "annotation_painter = openpifpaf.show.AnnotationPainter()\n",
    "with openpifpaf.show.Canvas.image(image) as ax:\n",
    "    annotation_painter.annotations(ax, predictions)"
   ]
  },
  {
   "cell_type": "markdown",
   "metadata": {},
   "source": [
    "This example is intentionally left to be quite basic. If you are interested\n",
    "to accelerate this process with a GPU or you have many images that should be\n",
    "pre-loaded in parallel, please have a look at the {doc}`Prediction API <predict_api>` \n",
    "or use the {ref}`openpifpaf.video <cli-help-video>` command line tool."
   ]
  }
 ],
 "metadata": {
  "interpreter": {
   "hash": "ea6946363a43e80d241452ab397f4c58bdd3d2517da174158e9c46ce6717422a"
  },
  "kernelspec": {
   "display_name": "openpifpaf",
   "language": "python",
   "name": "openpifpaf"
  },
  "language_info": {
   "codemirror_mode": {
    "name": "ipython",
    "version": 3
   },
   "file_extension": ".py",
   "mimetype": "text/x-python",
   "name": "python",
   "nbconvert_exporter": "python",
   "pygments_lexer": "ipython3",
   "version": "3.9.20"
  }
 },
 "nbformat": 4,
 "nbformat_minor": 4
}
